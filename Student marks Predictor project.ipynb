{
 "cells": [
  {
   "cell_type": "code",
   "execution_count": 2,
   "id": "2ec2a273",
   "metadata": {},
   "outputs": [],
   "source": [
    "import pandas as pd\n",
    "import numpy as np\n",
    "from matplotlib import pyplot as plt"
   ]
  },
  {
   "cell_type": "code",
   "execution_count": 6,
   "id": "87993786",
   "metadata": {},
   "outputs": [],
   "source": [
    "import os"
   ]
  },
  {
   "cell_type": "code",
   "execution_count": 7,
   "id": "dc9a6918",
   "metadata": {},
   "outputs": [],
   "source": [
    "os.chdir(\"D:\\pandas\")"
   ]
  },
  {
   "cell_type": "code",
   "execution_count": 8,
   "id": "1e827780",
   "metadata": {},
   "outputs": [
    {
     "data": {
      "text/plain": [
       "['areas.csv',\n",
       " 'canada_per_capita_income.csv',\n",
       " 'Case Study1- Classify Personal income.ipynb',\n",
       " 'Data Visualization in Data Science.ipynb',\n",
       " 'friends.csv',\n",
       " 'hiring.csv',\n",
       " 'homeprices.csv',\n",
       " 'homeprices1.csv',\n",
       " 'income.csv',\n",
       " 'Iris_data_sample.csv',\n",
       " 'Iris_data_sample.txt',\n",
       " 'Iris_data_sample.xlsx',\n",
       " 'model_pickle',\n",
       " 'mtcars.csv',\n",
       " 'nba.csv',\n",
       " 'Pandas Tutorial.ipynb',\n",
       " 'prediction.csv',\n",
       " 'prediction1.csv',\n",
       " 'README.md',\n",
       " 'sample data.csv',\n",
       " 'student_info.csv',\n",
       " 'Toyota.csv']"
      ]
     },
     "execution_count": 8,
     "metadata": {},
     "output_type": "execute_result"
    }
   ],
   "source": [
    "os.listdir()"
   ]
  },
  {
   "cell_type": "code",
   "execution_count": 9,
   "id": "8b14a193",
   "metadata": {},
   "outputs": [],
   "source": [
    "df=pd.read_csv('student_info.csv')"
   ]
  },
  {
   "cell_type": "code",
   "execution_count": 87,
   "id": "04a73b9c",
   "metadata": {},
   "outputs": [
    {
     "data": {
      "text/plain": [
       "<bound method NDFrame.head of      study_hours  student_marks\n",
       "0           6.83          78.50\n",
       "1           6.56          76.74\n",
       "2            NaN          78.68\n",
       "3           5.67          71.82\n",
       "4           8.67          84.19\n",
       "..           ...            ...\n",
       "195         7.53          81.67\n",
       "196         8.56          84.68\n",
       "197         8.94          86.75\n",
       "198         6.60          78.05\n",
       "199         8.35          83.50\n",
       "\n",
       "[200 rows x 2 columns]>"
      ]
     },
     "execution_count": 87,
     "metadata": {},
     "output_type": "execute_result"
    }
   ],
   "source": [
    "df.head"
   ]
  },
  {
   "cell_type": "code",
   "execution_count": 12,
   "id": "2a975fba",
   "metadata": {},
   "outputs": [
    {
     "data": {
      "text/plain": [
       "(200, 2)"
      ]
     },
     "execution_count": 12,
     "metadata": {},
     "output_type": "execute_result"
    }
   ],
   "source": [
    "df.shape"
   ]
  },
  {
   "cell_type": "code",
   "execution_count": 13,
   "id": "25aa03ed",
   "metadata": {},
   "outputs": [
    {
     "name": "stdout",
     "output_type": "stream",
     "text": [
      "<class 'pandas.core.frame.DataFrame'>\n",
      "RangeIndex: 200 entries, 0 to 199\n",
      "Data columns (total 2 columns):\n",
      " #   Column         Non-Null Count  Dtype  \n",
      "---  ------         --------------  -----  \n",
      " 0   study_hours    195 non-null    float64\n",
      " 1   student_marks  200 non-null    float64\n",
      "dtypes: float64(2)\n",
      "memory usage: 3.2 KB\n"
     ]
    }
   ],
   "source": [
    "df.info()"
   ]
  },
  {
   "cell_type": "code",
   "execution_count": 14,
   "id": "6cc9aec6",
   "metadata": {},
   "outputs": [
    {
     "data": {
      "text/plain": [
       "study_hours      5\n",
       "student_marks    0\n",
       "dtype: int64"
      ]
     },
     "execution_count": 14,
     "metadata": {},
     "output_type": "execute_result"
    }
   ],
   "source": [
    "df.isnull().sum()"
   ]
  },
  {
   "cell_type": "code",
   "execution_count": 15,
   "id": "f16727a9",
   "metadata": {},
   "outputs": [
    {
     "data": {
      "text/plain": [
       "study_hours       6.995949\n",
       "student_marks    77.933750\n",
       "dtype: float64"
      ]
     },
     "execution_count": 15,
     "metadata": {},
     "output_type": "execute_result"
    }
   ],
   "source": [
    "df.mean()"
   ]
  },
  {
   "cell_type": "code",
   "execution_count": 16,
   "id": "4b98a26e",
   "metadata": {},
   "outputs": [],
   "source": [
    "df_studyhours_mean = df.study_hours.mean()"
   ]
  },
  {
   "cell_type": "code",
   "execution_count": 17,
   "id": "47c315ff",
   "metadata": {},
   "outputs": [
    {
     "data": {
      "text/plain": [
       "6.9959487179487185"
      ]
     },
     "execution_count": 17,
     "metadata": {},
     "output_type": "execute_result"
    }
   ],
   "source": [
    "df_studyhours_mean"
   ]
  },
  {
   "cell_type": "code",
   "execution_count": 18,
   "id": "b41cf679",
   "metadata": {},
   "outputs": [],
   "source": [
    "import math\n",
    "sh_mean = math.floor(df.study_hours.mean())"
   ]
  },
  {
   "cell_type": "code",
   "execution_count": 19,
   "id": "30fe5e7c",
   "metadata": {},
   "outputs": [
    {
     "data": {
      "text/plain": [
       "6"
      ]
     },
     "execution_count": 19,
     "metadata": {},
     "output_type": "execute_result"
    }
   ],
   "source": [
    "sh_mean"
   ]
  },
  {
   "cell_type": "code",
   "execution_count": 20,
   "id": "e93db8a8",
   "metadata": {},
   "outputs": [],
   "source": [
    "df1 = df.study_hours.fillna(sh_mean)"
   ]
  },
  {
   "cell_type": "code",
   "execution_count": 22,
   "id": "34f1439d",
   "metadata": {},
   "outputs": [
    {
     "data": {
      "text/plain": [
       "0    6.83\n",
       "1    6.56\n",
       "2    6.00\n",
       "3    5.67\n",
       "4    8.67\n",
       "Name: study_hours, dtype: float64"
      ]
     },
     "execution_count": 22,
     "metadata": {},
     "output_type": "execute_result"
    }
   ],
   "source": [
    "df1.head()"
   ]
  },
  {
   "cell_type": "code",
   "execution_count": 25,
   "id": "6527c545",
   "metadata": {},
   "outputs": [
    {
     "data": {
      "text/plain": [
       "study_hours      5\n",
       "student_marks    0\n",
       "dtype: int64"
      ]
     },
     "execution_count": 25,
     "metadata": {},
     "output_type": "execute_result"
    }
   ],
   "source": [
    "df.isnull().sum()"
   ]
  },
  {
   "cell_type": "code",
   "execution_count": 26,
   "id": "0f9eade3",
   "metadata": {},
   "outputs": [],
   "source": [
    "df2 = df.fillna(df.mean())"
   ]
  },
  {
   "cell_type": "code",
   "execution_count": 27,
   "id": "b3cf988c",
   "metadata": {},
   "outputs": [
    {
     "data": {
      "text/plain": [
       "study_hours      0\n",
       "student_marks    0\n",
       "dtype: int64"
      ]
     },
     "execution_count": 27,
     "metadata": {},
     "output_type": "execute_result"
    }
   ],
   "source": [
    "df2.isnull().sum()"
   ]
  },
  {
   "cell_type": "code",
   "execution_count": 28,
   "id": "57285750",
   "metadata": {},
   "outputs": [],
   "source": [
    "from sklearn import linear_model"
   ]
  },
  {
   "cell_type": "code",
   "execution_count": 29,
   "id": "93429940",
   "metadata": {},
   "outputs": [],
   "source": [
    "%matplotlib inline"
   ]
  },
  {
   "cell_type": "code",
   "execution_count": 48,
   "id": "e7565c15",
   "metadata": {},
   "outputs": [
    {
     "data": {
      "image/png": "[encoded data removed]",
      "text/plain": [
       "<Figure size 432x288 with 1 Axes>"
      ]
     },
     "metadata": {
      "needs_background": "light"
     },
     "output_type": "display_data"
    }
   ],
   "source": [
    "plt.title('Graph of Marks vs Studyhours',size= 15,color = 'b')\n",
    "plt.xlabel('study_hours',size=10,color='r')\n",
    "plt.ylabel('student_marks',size =10,color ='r')\n",
    "plt.scatter(df2.study_hours,df2.student_marks, marker = '*',color = 'g')\n",
    "plt.show()"
   ]
  },
  {
   "cell_type": "code",
   "execution_count": 63,
   "id": "bbb0bbd7",
   "metadata": {},
   "outputs": [],
   "source": [
    "x = df2.drop('student_marks',axis='columns')\n",
    "y = df2.drop('study_hours',axis = 'columns')\n",
    "from sklearn.model_selection import train_test_split\n",
    "x_train,x_test,y_train,y_test = train_test_split(x,y, test_size = 0.2 ,random_state = 7)"
   ]
  },
  {
   "cell_type": "code",
   "execution_count": 65,
   "id": "5d267ece",
   "metadata": {},
   "outputs": [
    {
     "name": "stdout",
     "output_type": "stream",
     "text": [
      "160\n",
      "160\n",
      "40\n",
      "40\n"
     ]
    }
   ],
   "source": [
    "print(len(x_train))\n",
    "print(len(y_train))\n",
    "print(len(x_test))\n",
    "print(len(y_test))"
   ]
  },
  {
   "cell_type": "code",
   "execution_count": 49,
   "id": "6dd396fe",
   "metadata": {},
   "outputs": [
    {
     "data": {
      "text/plain": [
       "LinearRegression()"
      ]
     },
     "execution_count": 49,
     "metadata": {},
     "output_type": "execute_result"
    }
   ],
   "source": [
    "reg = linear_model.LinearRegression()\n",
    "reg.fit(df2[['study_hours']],df2.student_marks)"
   ]
  },
  {
   "cell_type": "code",
   "execution_count": 50,
   "id": "1798f481",
   "metadata": {},
   "outputs": [
    {
     "data": {
      "text/plain": [
       "array([3.89645241])"
      ]
     },
     "execution_count": 50,
     "metadata": {},
     "output_type": "execute_result"
    }
   ],
   "source": [
    "reg.coef_"
   ]
  },
  {
   "cell_type": "code",
   "execution_count": 51,
   "id": "932a450b",
   "metadata": {},
   "outputs": [
    {
     "data": {
      "text/plain": [
       "50.67436878323757"
      ]
     },
     "execution_count": 51,
     "metadata": {},
     "output_type": "execute_result"
    }
   ],
   "source": [
    "reg.intercept_"
   ]
  },
  {
   "cell_type": "code",
   "execution_count": 54,
   "id": "c51d9bc6",
   "metadata": {},
   "outputs": [
    {
     "data": {
      "text/plain": [
       "array([89.63889285])"
      ]
     },
     "execution_count": 54,
     "metadata": {},
     "output_type": "execute_result"
    }
   ],
   "source": [
    "reg.predict([[10]])"
   ]
  },
  {
   "cell_type": "code",
   "execution_count": 56,
   "id": "10766710",
   "metadata": {},
   "outputs": [
    {
     "data": {
      "text/plain": [
       "array([85.74244044])"
      ]
     },
     "execution_count": 56,
     "metadata": {},
     "output_type": "execute_result"
    }
   ],
   "source": [
    "reg.predict([[9]])"
   ]
  },
  {
   "cell_type": "code",
   "execution_count": 61,
   "id": "2a76eebd",
   "metadata": {},
   "outputs": [
    {
     "data": {
      "text/plain": [
       "array([97.43179766])"
      ]
     },
     "execution_count": 61,
     "metadata": {},
     "output_type": "execute_result"
    }
   ],
   "source": [
    "reg.predict([[12]])"
   ]
  },
  {
   "cell_type": "code",
   "execution_count": 67,
   "id": "c3d40f06",
   "metadata": {},
   "outputs": [],
   "source": [
    "y_predict = reg.predict(x_test)"
   ]
  },
  {
   "cell_type": "code",
   "execution_count": 68,
   "id": "a304ba23",
   "metadata": {},
   "outputs": [
    {
     "data": {
      "text/plain": [
       "array([73.58550893, 76.07923847, 70.35145344, 84.02800138, 80.0146554 ,\n",
       "       77.93375   , 83.05388828, 80.63808779, 81.3004847 , 80.75498136,\n",
       "       73.42965084, 77.93375   , 84.61246924, 71.9100344 , 77.93375   ,\n",
       "       70.70213415, 71.9100344 , 82.1187397 , 71.09177939, 77.98850015,\n",
       "       83.48249804, 84.18385948, 76.04027395, 79.15743587, 85.23590163,\n",
       "       83.20974638, 81.65116541, 85.5086533 , 70.23455986, 73.23482822,\n",
       "       85.46968877, 71.48142463, 80.67705231, 77.48196134, 84.53454019,\n",
       "       72.61139583, 75.84545133, 84.222824  , 83.17078185, 71.71521178])"
      ]
     },
     "execution_count": 68,
     "metadata": {},
     "output_type": "execute_result"
    }
   ],
   "source": [
    "y_predict"
   ]
  },
  {
   "cell_type": "code",
   "execution_count": 72,
   "id": "4b024995",
   "metadata": {},
   "outputs": [
    {
     "data": {
      "text/html": [
       "<div>\n",
       "<style scoped>\n",
       "    .dataframe tbody tr th:only-of-type {\n",
       "        vertical-align: middle;\n",
       "    }\n",
       "\n",
       "    .dataframe tbody tr th {\n",
       "        vertical-align: top;\n",
       "    }\n",
       "\n",
       "    .dataframe thead th {\n",
       "        text-align: right;\n",
       "    }\n",
       "</style>\n",
       "<table border=\"1\" class=\"dataframe\">\n",
       "  <thead>\n",
       "    <tr style=\"text-align: right;\">\n",
       "      <th></th>\n",
       "      <th>Studyhours</th>\n",
       "      <th>Originalmarks</th>\n",
       "      <th>Predictedmarks</th>\n",
       "    </tr>\n",
       "  </thead>\n",
       "  <tbody>\n",
       "    <tr>\n",
       "      <th>0</th>\n",
       "      <td>5.880000</td>\n",
       "      <td>73.40</td>\n",
       "      <td>73.585509</td>\n",
       "    </tr>\n",
       "    <tr>\n",
       "      <th>1</th>\n",
       "      <td>6.520000</td>\n",
       "      <td>76.20</td>\n",
       "      <td>76.079238</td>\n",
       "    </tr>\n",
       "    <tr>\n",
       "      <th>2</th>\n",
       "      <td>5.050000</td>\n",
       "      <td>70.67</td>\n",
       "      <td>70.351453</td>\n",
       "    </tr>\n",
       "    <tr>\n",
       "      <th>3</th>\n",
       "      <td>8.560000</td>\n",
       "      <td>83.88</td>\n",
       "      <td>84.028001</td>\n",
       "    </tr>\n",
       "    <tr>\n",
       "      <th>4</th>\n",
       "      <td>7.530000</td>\n",
       "      <td>81.67</td>\n",
       "      <td>80.014655</td>\n",
       "    </tr>\n",
       "    <tr>\n",
       "      <th>5</th>\n",
       "      <td>6.995949</td>\n",
       "      <td>78.68</td>\n",
       "      <td>77.933750</td>\n",
       "    </tr>\n",
       "    <tr>\n",
       "      <th>6</th>\n",
       "      <td>8.310000</td>\n",
       "      <td>82.69</td>\n",
       "      <td>83.053888</td>\n",
       "    </tr>\n",
       "    <tr>\n",
       "      <th>7</th>\n",
       "      <td>7.690000</td>\n",
       "      <td>81.01</td>\n",
       "      <td>80.638088</td>\n",
       "    </tr>\n",
       "    <tr>\n",
       "      <th>8</th>\n",
       "      <td>7.860000</td>\n",
       "      <td>81.25</td>\n",
       "      <td>81.300485</td>\n",
       "    </tr>\n",
       "    <tr>\n",
       "      <th>9</th>\n",
       "      <td>7.720000</td>\n",
       "      <td>80.43</td>\n",
       "      <td>80.754981</td>\n",
       "    </tr>\n",
       "    <tr>\n",
       "      <th>10</th>\n",
       "      <td>5.840000</td>\n",
       "      <td>74.25</td>\n",
       "      <td>73.429651</td>\n",
       "    </tr>\n",
       "    <tr>\n",
       "      <th>11</th>\n",
       "      <td>6.995949</td>\n",
       "      <td>75.39</td>\n",
       "      <td>77.933750</td>\n",
       "    </tr>\n",
       "    <tr>\n",
       "      <th>12</th>\n",
       "      <td>8.710000</td>\n",
       "      <td>85.98</td>\n",
       "      <td>84.612469</td>\n",
       "    </tr>\n",
       "    <tr>\n",
       "      <th>13</th>\n",
       "      <td>5.450000</td>\n",
       "      <td>70.06</td>\n",
       "      <td>71.910034</td>\n",
       "    </tr>\n",
       "    <tr>\n",
       "      <th>14</th>\n",
       "      <td>6.995949</td>\n",
       "      <td>77.27</td>\n",
       "      <td>77.933750</td>\n",
       "    </tr>\n",
       "    <tr>\n",
       "      <th>15</th>\n",
       "      <td>5.140000</td>\n",
       "      <td>70.20</td>\n",
       "      <td>70.702134</td>\n",
       "    </tr>\n",
       "    <tr>\n",
       "      <th>16</th>\n",
       "      <td>5.450000</td>\n",
       "      <td>70.96</td>\n",
       "      <td>71.910034</td>\n",
       "    </tr>\n",
       "    <tr>\n",
       "      <th>17</th>\n",
       "      <td>8.070000</td>\n",
       "      <td>82.30</td>\n",
       "      <td>82.118740</td>\n",
       "    </tr>\n",
       "    <tr>\n",
       "      <th>18</th>\n",
       "      <td>5.240000</td>\n",
       "      <td>70.78</td>\n",
       "      <td>71.091779</td>\n",
       "    </tr>\n",
       "    <tr>\n",
       "      <th>19</th>\n",
       "      <td>7.010000</td>\n",
       "      <td>77.46</td>\n",
       "      <td>77.988500</td>\n",
       "    </tr>\n",
       "    <tr>\n",
       "      <th>20</th>\n",
       "      <td>8.420000</td>\n",
       "      <td>84.24</td>\n",
       "      <td>83.482498</td>\n",
       "    </tr>\n",
       "    <tr>\n",
       "      <th>21</th>\n",
       "      <td>8.600000</td>\n",
       "      <td>83.91</td>\n",
       "      <td>84.183859</td>\n",
       "    </tr>\n",
       "    <tr>\n",
       "      <th>22</th>\n",
       "      <td>6.510000</td>\n",
       "      <td>75.52</td>\n",
       "      <td>76.040274</td>\n",
       "    </tr>\n",
       "    <tr>\n",
       "      <th>23</th>\n",
       "      <td>7.310000</td>\n",
       "      <td>77.59</td>\n",
       "      <td>79.157436</td>\n",
       "    </tr>\n",
       "    <tr>\n",
       "      <th>24</th>\n",
       "      <td>8.870000</td>\n",
       "      <td>85.10</td>\n",
       "      <td>85.235902</td>\n",
       "    </tr>\n",
       "    <tr>\n",
       "      <th>25</th>\n",
       "      <td>8.350000</td>\n",
       "      <td>83.08</td>\n",
       "      <td>83.209746</td>\n",
       "    </tr>\n",
       "    <tr>\n",
       "      <th>26</th>\n",
       "      <td>7.950000</td>\n",
       "      <td>82.03</td>\n",
       "      <td>81.651165</td>\n",
       "    </tr>\n",
       "    <tr>\n",
       "      <th>27</th>\n",
       "      <td>8.940000</td>\n",
       "      <td>86.75</td>\n",
       "      <td>85.508653</td>\n",
       "    </tr>\n",
       "    <tr>\n",
       "      <th>28</th>\n",
       "      <td>5.020000</td>\n",
       "      <td>70.58</td>\n",
       "      <td>70.234560</td>\n",
       "    </tr>\n",
       "    <tr>\n",
       "      <th>29</th>\n",
       "      <td>5.790000</td>\n",
       "      <td>73.64</td>\n",
       "      <td>73.234828</td>\n",
       "    </tr>\n",
       "    <tr>\n",
       "      <th>30</th>\n",
       "      <td>8.930000</td>\n",
       "      <td>86.65</td>\n",
       "      <td>85.469689</td>\n",
       "    </tr>\n",
       "    <tr>\n",
       "      <th>31</th>\n",
       "      <td>5.340000</td>\n",
       "      <td>72.10</td>\n",
       "      <td>71.481425</td>\n",
       "    </tr>\n",
       "    <tr>\n",
       "      <th>32</th>\n",
       "      <td>7.700000</td>\n",
       "      <td>80.81</td>\n",
       "      <td>80.677052</td>\n",
       "    </tr>\n",
       "    <tr>\n",
       "      <th>33</th>\n",
       "      <td>6.880000</td>\n",
       "      <td>77.29</td>\n",
       "      <td>77.481961</td>\n",
       "    </tr>\n",
       "    <tr>\n",
       "      <th>34</th>\n",
       "      <td>8.690000</td>\n",
       "      <td>83.57</td>\n",
       "      <td>84.534540</td>\n",
       "    </tr>\n",
       "    <tr>\n",
       "      <th>35</th>\n",
       "      <td>5.630000</td>\n",
       "      <td>72.87</td>\n",
       "      <td>72.611396</td>\n",
       "    </tr>\n",
       "    <tr>\n",
       "      <th>36</th>\n",
       "      <td>6.460000</td>\n",
       "      <td>76.02</td>\n",
       "      <td>75.845451</td>\n",
       "    </tr>\n",
       "    <tr>\n",
       "      <th>37</th>\n",
       "      <td>8.610000</td>\n",
       "      <td>83.87</td>\n",
       "      <td>84.222824</td>\n",
       "    </tr>\n",
       "    <tr>\n",
       "      <th>38</th>\n",
       "      <td>8.340000</td>\n",
       "      <td>84.00</td>\n",
       "      <td>83.170782</td>\n",
       "    </tr>\n",
       "    <tr>\n",
       "      <th>39</th>\n",
       "      <td>5.400000</td>\n",
       "      <td>70.34</td>\n",
       "      <td>71.715212</td>\n",
       "    </tr>\n",
       "  </tbody>\n",
       "</table>\n",
       "</div>"
      ],
      "text/plain": [
       "    Studyhours  Originalmarks  Predictedmarks\n",
       "0     5.880000          73.40       73.585509\n",
       "1     6.520000          76.20       76.079238\n",
       "2     5.050000          70.67       70.351453\n",
       "3     8.560000          83.88       84.028001\n",
       "4     7.530000          81.67       80.014655\n",
       "5     6.995949          78.68       77.933750\n",
       "6     8.310000          82.69       83.053888\n",
       "7     7.690000          81.01       80.638088\n",
       "8     7.860000          81.25       81.300485\n",
       "9     7.720000          80.43       80.754981\n",
       "10    5.840000          74.25       73.429651\n",
       "11    6.995949          75.39       77.933750\n",
       "12    8.710000          85.98       84.612469\n",
       "13    5.450000          70.06       71.910034\n",
       "14    6.995949          77.27       77.933750\n",
       "15    5.140000          70.20       70.702134\n",
       "16    5.450000          70.96       71.910034\n",
       "17    8.070000          82.30       82.118740\n",
       "18    5.240000          70.78       71.091779\n",
       "19    7.010000          77.46       77.988500\n",
       "20    8.420000          84.24       83.482498\n",
       "21    8.600000          83.91       84.183859\n",
       "22    6.510000          75.52       76.040274\n",
       "23    7.310000          77.59       79.157436\n",
       "24    8.870000          85.10       85.235902\n",
       "25    8.350000          83.08       83.209746\n",
       "26    7.950000          82.03       81.651165\n",
       "27    8.940000          86.75       85.508653\n",
       "28    5.020000          70.58       70.234560\n",
       "29    5.790000          73.64       73.234828\n",
       "30    8.930000          86.65       85.469689\n",
       "31    5.340000          72.10       71.481425\n",
       "32    7.700000          80.81       80.677052\n",
       "33    6.880000          77.29       77.481961\n",
       "34    8.690000          83.57       84.534540\n",
       "35    5.630000          72.87       72.611396\n",
       "36    6.460000          76.02       75.845451\n",
       "37    8.610000          83.87       84.222824\n",
       "38    8.340000          84.00       83.170782\n",
       "39    5.400000          70.34       71.715212"
      ]
     },
     "execution_count": 72,
     "metadata": {},
     "output_type": "execute_result"
    }
   ],
   "source": [
    "pd.DataFrame(np.c_[x_test,y_test,y_predict],columns = ['Studyhours','Originalmarks','Predictedmarks'])"
   ]
  },
  {
   "cell_type": "code",
   "execution_count": 73,
   "id": "11eaa545",
   "metadata": {},
   "outputs": [
    {
     "data": {
      "text/plain": [
       "0.9741336666035119"
      ]
     },
     "execution_count": 73,
     "metadata": {},
     "output_type": "execute_result"
    }
   ],
   "source": [
    "reg.score(x_test,y_test)"
   ]
  },
  {
   "cell_type": "code",
   "execution_count": 78,
   "id": "9ec3fe57",
   "metadata": {},
   "outputs": [
    {
     "data": {
      "text/plain": [
       "<matplotlib.collections.PathCollection at 0x2750cbd9250>"
      ]
     },
     "execution_count": 78,
     "metadata": {},
     "output_type": "execute_result"
    },
    {
     "data": {
      "image/png": "[encoded data removed]",
      "text/plain": [
       "<Figure size 432x288 with 1 Axes>"
      ]
     },
     "metadata": {
      "needs_background": "light"
     },
     "output_type": "display_data"
    }
   ],
   "source": [
    "plt.title('Graph of x_train and y_train',size=14, color='b')\n",
    "plt.xlabel('x_train',size=20, color = 'r')\n",
    "plt.ylabel('y_train',size =20 , color ='r')\n",
    "plt.scatter(x_train,y_train)"
   ]
  },
  {
   "cell_type": "code",
   "execution_count": 81,
   "id": "33916a93",
   "metadata": {},
   "outputs": [
    {
     "data": {
      "text/plain": [
       "[<matplotlib.lines.Line2D at 0x2750d56e730>]"
      ]
     },
     "execution_count": 81,
     "metadata": {},
     "output_type": "execute_result"
    },
    {
     "data": {
      "image/png": "[encoded data removed]",
      "text/plain": [
       "<Figure size 432x288 with 1 Axes>"
      ]
     },
     "metadata": {
      "needs_background": "light"
     },
     "output_type": "display_data"
    }
   ],
   "source": [
    "plt.scatter(x_test,y_test)\n",
    "plt.plot(x_train,reg.predict(x_train),color='r')"
   ]
  },
  {
   "cell_type": "code",
   "execution_count": 86,
   "id": "4e87b17c",
   "metadata": {},
   "outputs": [
    {
     "data": {
      "text/plain": [
       "array([93.53534525])"
      ]
     },
     "execution_count": 86,
     "metadata": {},
     "output_type": "execute_result"
    }
   ],
   "source": [
    "reg.predict([[11]])"
   ]
  },
  {
   "cell_type": "code",
   "execution_count": 88,
   "id": "53ebb0bc",
   "metadata": {},
   "outputs": [
    {
     "data": {
      "text/plain": [
       "['studentmarks_predictor']"
      ]
     },
     "execution_count": 88,
     "metadata": {},
     "output_type": "execute_result"
    }
   ],
   "source": [
    "import joblib\n",
    "joblib.dump(reg,'studentmarks_predictor')"
   ]
  },
  {
   "cell_type": "code",
   "execution_count": 89,
   "id": "5e2dcb84",
   "metadata": {},
   "outputs": [],
   "source": [
    "model = joblib.load('studentmarks_predictor')"
   ]
  },
  {
   "cell_type": "code",
   "execution_count": 90,
   "id": "33d7c75e",
   "metadata": {},
   "outputs": [
    {
     "data": {
      "text/plain": [
       "LinearRegression()"
      ]
     },
     "execution_count": 90,
     "metadata": {},
     "output_type": "execute_result"
    }
   ],
   "source": [
    "model"
   ]
  },
  {
   "cell_type": "code",
   "execution_count": 95,
   "id": "f545b3c4",
   "metadata": {},
   "outputs": [
    {
     "data": {
      "text/plain": [
       "array([89.63889285])"
      ]
     },
     "execution_count": 95,
     "metadata": {},
     "output_type": "execute_result"
    }
   ],
   "source": [
    "reg.predict([[10]])"
   ]
  },
  {
   "cell_type": "code",
   "execution_count": null,
   "id": "a864dfe3",
   "metadata": {},
   "outputs": [],
   "source": []
  }
 ],
 "metadata": {
  "kernelspec": {
   "display_name": "Python 3",
   "language": "python",
   "name": "python3"
  },
  "language_info": {
   "codemirror_mode": {
    "name": "ipython",
    "version": 3
   },
   "file_extension": ".py",
   "mimetype": "text/x-python",
   "name": "python",
   "nbconvert_exporter": "python",
   "pygments_lexer": "ipython3",
   "version": "3.8.8"
  }
 },
 "nbformat": 4,
 "nbformat_minor": 5
}
